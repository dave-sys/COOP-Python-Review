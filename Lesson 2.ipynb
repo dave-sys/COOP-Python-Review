{
  "cells": [
    {
      "cell_type": "markdown",
      "metadata": {},
      "source": [
        "<img src=\"https://tinyurl.com/k2t79s6t\" style=\"float: left; margin: 20px; height: 55px\">\n",
        " \n",
        "# Introduction to Python - Basic Control Flow and Algorithms\n",
        "\n",
        "_Authors: Christopher Chan_"
      ]
    },
    {
      "cell_type": "markdown",
      "metadata": {},
      "source": [
        "## Objective\n",
        "\n",
        "Upon completion of this lesson you should be able to understand the following:\n",
        "    \n",
        "1. Conditional statements\n",
        "2. Loops\n",
        "3. Function construction\n",
        "4. Function arguments\n",
        "\n",
        "This will help us construct algorithms that can automate tasks\n",
        "##### =================================================================================================="
      ]
    },
    {
      "cell_type": "markdown",
      "metadata": {},
      "source": [
        "## Conditionals\n",
        "\n",
        "### `if` Statement\n",
        "\n",
        "An `if` statement runs a block of code if a certain condition is satisfied.\n",
        "\n",
        "*Example:* Define the price of an object. If the price is greater than 100, print out \"Item price is expensive\". If price is less than 100, print out \"Item price is not expensive\". If price is exactly 100, print \"Item price is just right\"."
      ]
    },
    {
      "cell_type": "code",
      "execution_count": null,
      "metadata": {},
      "outputs": [],
      "source": [
        "price = 100\n",
        "\n",
        "if price > 100:\n",
        "    print(\"Item price is expensive\")\n",
        "if price < 100:\n",
        "    print(\"Item price is not expensive\")\n",
        "if price == 100:\n",
        "    print(\"Item price is just right\")"
      ]
    },
    {
      "cell_type": "markdown",
      "metadata": {},
      "source": [
        "##### ==================================================================================================\n",
        "### `elif` Statement\n",
        "An `elif` (short for \"else if\") statement runs a block of code if a certain condition is satisfied only if the previous conditions were not satisfied.\n",
        "\n",
        "*Example:* Define the cost. If cost is over 600, then print \"cost is too expensive\" otherwise check if cost is equal or less than 600, then print \"cost is within budget\""
      ]
    },
    {
      "cell_type": "code",
      "execution_count": null,
      "metadata": {},
      "outputs": [],
      "source": [
        "cost = 500\n",
        "\n",
        "if cost > 600:\n",
        "    print(\"cost is too expensive\")\n",
        "elif cost <= 600:\n",
        "    print(\"cost is within budget\")"
      ]
    },
    {
      "cell_type": "markdown",
      "metadata": {},
      "source": [
        "##### ==================================================================================================\n",
        "### `else` Statement\n",
        "An `else` statement runs a block of code if all previous conditions were not satisfied.\n",
        "\n",
        "*Example:* Define your monthly income and rent. If income is greater than rent, print \"I can afford rent\". Otherwise check if rent is exactly equal to income, if so, then print \"rent will consume my entire paycheck\", otherwise print \"I cannot afford the rent but that is why I am here at COOP Careers to change that\""
      ]
    },
    {
      "cell_type": "code",
      "execution_count": null,
      "metadata": {},
      "outputs": [],
      "source": [
        "income = 1800\n",
        "rent = 2000\n",
        "\n",
        "if income > rent:\n",
        "    print(\"I can afford rent\")\n",
        "elif rent == income:\n",
        "    print(\"rent will consume my entire paycheck\")\n",
        "else:\n",
        "    print(\"I cannot afford the rent but that is why I am here at COOP Careers to change that\")"
      ]
    },
    {
      "cell_type": "markdown",
      "metadata": {},
      "source": [
        "##### ==================================================================================================\n",
        "### `for` Loops\n",
        "A `for` loop iterates over a sequence/container\n",
        "\n",
        "Example: Create a list that includes the summer months June, July, August and September and then use a `for` loop to print out each element in the list"
      ]
    },
    {
      "cell_type": "code",
      "execution_count": null,
      "metadata": {},
      "outputs": [],
      "source": [
        "summer_months = [\"June\",\"July\", \"August\", \"September\"]\n",
        "\n",
        "for i in summer_months:\n",
        "    print(i)"
      ]
    },
    {
      "cell_type": "markdown",
      "metadata": {},
      "source": [
        "##### ==================================================================================================\n",
        "Loop through the list of summer months and print out \"I love July because my birthday is in July!\" when it loops to July, otherwise print \"I don't really care for\" followed by that specific month"
      ]
    },
    {
      "cell_type": "code",
      "execution_count": null,
      "metadata": {},
      "outputs": [],
      "source": [
        "for i in summer_months:\n",
        "    if i == \"July\":\n",
        "        print(f\"I love {i} because my birthday is in {i}!\")\n",
        "    else:\n",
        "        print(f\"I don't really care for {i}\")"
      ]
    },
    {
      "cell_type": "markdown",
      "metadata": {},
      "source": [
        "##### ==================================================================================================\n",
        "Loop through and print out each element in a string with the elements \"COOP\""
      ]
    },
    {
      "cell_type": "code",
      "execution_count": 13,
      "metadata": {},
      "outputs": [
        {
          "name": "stdout",
          "output_type": "stream",
          "text": [
            "C\n",
            "O\n",
            "O\n",
            "P\n"
          ]
        }
      ],
      "source": [
        "for i in \"COOP\":\n",
        "    print(i)"
      ]
    },
    {
      "cell_type": "markdown",
      "metadata": {},
      "source": [
        "##### ==================================================================================================\n",
        "Create a list of zodiax animals and count the number of vowels within each animal name"
      ]
    },
    {
      "cell_type": "code",
      "execution_count": null,
      "metadata": {},
      "outputs": [],
      "source": [
        "zodiac_animals = [\"Rat\",\"Ox\",\"Tiger\",\"Rabbit\",\"Dragon\",\"Snake\",\"Horse\",\"Goat\",\"Monkey\",\"Rooster\",\"Dog\",\"Pig\"]\n",
        "\n",
        "vowels = \"aeiou\"\n",
        "\n",
        "for i in zodiac_animals:\n",
        "    vowel_count = 0\n",
        "    for j in i.lower():\n",
        "        if j in vowels:\n",
        "            vowel_count += 1\n",
        "    print(i,\":\", vowel_count)"
      ]
    },
    {
      "cell_type": "markdown",
      "metadata": {},
      "source": [
        "##### ==================================================================================================\n",
        "### `while` Loops\n",
        "A `while` loop will run a block of code as long as a condition is true.\n",
        "\n",
        "Example: Use a `while` loop to print out \"I cannot legally purchase alcohol at the age of\" followed by the age. Let age start from 0 and increment by 1 each loop until age is 21"
      ]
    },
    {
      "cell_type": "code",
      "execution_count": 14,
      "metadata": {},
      "outputs": [
        {
          "name": "stdout",
          "output_type": "stream",
          "text": [
            "I cannot legally purchase alcohol at the age of 0\n",
            "I cannot legally purchase alcohol at the age of 1\n",
            "I cannot legally purchase alcohol at the age of 2\n",
            "I cannot legally purchase alcohol at the age of 3\n",
            "I cannot legally purchase alcohol at the age of 4\n",
            "I cannot legally purchase alcohol at the age of 5\n",
            "I cannot legally purchase alcohol at the age of 6\n",
            "I cannot legally purchase alcohol at the age of 7\n",
            "I cannot legally purchase alcohol at the age of 8\n",
            "I cannot legally purchase alcohol at the age of 9\n",
            "I cannot legally purchase alcohol at the age of 10\n",
            "I cannot legally purchase alcohol at the age of 11\n",
            "I cannot legally purchase alcohol at the age of 12\n",
            "I cannot legally purchase alcohol at the age of 13\n",
            "I cannot legally purchase alcohol at the age of 14\n",
            "I cannot legally purchase alcohol at the age of 15\n",
            "I cannot legally purchase alcohol at the age of 16\n",
            "I cannot legally purchase alcohol at the age of 17\n",
            "I cannot legally purchase alcohol at the age of 18\n",
            "I cannot legally purchase alcohol at the age of 19\n",
            "I cannot legally purchase alcohol at the age of 20\n"
          ]
        }
      ],
      "source": [
        "age = 0\n",
        "while age < 21:\n",
        "    print(\"I cannot legally purchase alcohol at the age of\", + age)\n",
        "    age = age + 1"
      ]
    },
    {
      "cell_type": "markdown",
      "metadata": {},
      "source": [
        "##### ==================================================================================================\n",
        "### Functions\n",
        "\n",
        "A function is a block of code which only runs when it is called. In Python a function is defined using the `def` keyword.\n",
        "\n",
        "Example:"
      ]
    },
    {
      "cell_type": "code",
      "execution_count": null,
      "metadata": {},
      "outputs": [],
      "source": [
        "def my_func():\n",
        "    print(\"I am learning Python at COOP\")"
      ]
    },
    {
      "cell_type": "markdown",
      "metadata": {},
      "source": [
        "##### ==================================================================================================\n",
        "### Function Calling\n",
        "To call a specific function, use the function name followed by parenthesis.\n",
        "\n",
        "Example:"
      ]
    },
    {
      "cell_type": "code",
      "execution_count": null,
      "metadata": {},
      "outputs": [],
      "source": [
        "my_func()"
      ]
    },
    {
      "cell_type": "markdown",
      "metadata": {},
      "source": [
        "##### ==================================================================================================\n",
        "### Function Arguments and Parameters\n",
        "\n",
        "Information can be passed into functions as arguments. Arguments are specified after the function name, inside the parentheses. You can add as many arguments as you want, just separate them with a comma.\n",
        "\n",
        "An argument is the value that is sent to the function when it is called.\n",
        "\n",
        "A parameter is the variable listed inside the parentheses in the function definition.\n",
        "\n",
        "Example:"
      ]
    },
    {
      "cell_type": "code",
      "execution_count": null,
      "metadata": {},
      "outputs": [],
      "source": [
        "def final_cost(item_price, tax_rate, shipping_cost):\n",
        "    return item_price + item_price*tax_rate + shipping_cost"
      ]
    },
    {
      "cell_type": "code",
      "execution_count": null,
      "metadata": {},
      "outputs": [],
      "source": [
        "phone_price = 500\n",
        "state_tax = 0.08\n",
        "shipping_fee = 5.25\n",
        "\n",
        "final_cost(phone_price, state_tax, shipping_fee)"
      ]
    },
    {
      "cell_type": "markdown",
      "metadata": {},
      "source": [
        "##### ==================================================================================================\n",
        "Create a function `area_triangle` that takes the base and height of a triangle and returns its area by applying base = 4 and height = 6.\n",
        "\n",
        "Example:"
      ]
    },
    {
      "cell_type": "code",
      "execution_count": null,
      "metadata": {},
      "outputs": [],
      "source": [
        "def area_triangle(base, height):\n",
        "    return (1/2) * base * height"
      ]
    },
    {
      "cell_type": "code",
      "execution_count": null,
      "metadata": {},
      "outputs": [],
      "source": [
        "area_triangle(4,6)"
      ]
    },
    {
      "cell_type": "markdown",
      "metadata": {},
      "source": [
        "##### ==================================================================================================\n",
        "## Summary\n",
        "\n",
        "- You can use `if`, `elif`, and `else` to construct code that carries out different steps depending on circumstances.\n",
        "- `for` loops allow you to execute some code for every item in a collection.\n",
        "- Functions allow you package up some code with specific inputs and outputs.\n",
        "- `while` loops allow you to execute some code as long as a condition is met."
      ]
    },
    {
      "cell_type": "markdown",
      "metadata": {},
      "source": [
        "##### ==================================================================================================\n",
        "### Exercise 1:\n",
        "\n",
        "Create a function named `coop` that takes in a number, `n`, and prints the integer numbers from 1 to `n`. But for multiples of 3, print \"CO\" instead of the number. For multiples of 5, print \"OP\" instead of the number. For multiples of both 3 and 5, print \"COOP\" instead of the number. Then call the function to run it, with the input of 50."
      ]
    },
    {
      "cell_type": "code",
      "execution_count": 20,
      "metadata": {
        "trusted": true
      },
      "outputs": [
        {
          "name": "stdout",
          "output_type": "stream",
          "text": [
            "1\n",
            "2\n",
            "co\n",
            "4\n",
            "op\n",
            "co\n",
            "7\n",
            "8\n",
            "co\n",
            "op\n",
            "11\n",
            "co\n",
            "13\n",
            "14\n",
            "coop\n",
            "16\n",
            "17\n",
            "co\n",
            "19\n",
            "op\n",
            "co\n",
            "22\n",
            "23\n",
            "co\n",
            "op\n",
            "26\n",
            "co\n",
            "28\n",
            "29\n",
            "coop\n",
            "31\n",
            "32\n",
            "co\n",
            "34\n",
            "op\n",
            "co\n",
            "37\n",
            "38\n",
            "co\n",
            "op\n",
            "41\n",
            "co\n",
            "43\n",
            "44\n",
            "coop\n",
            "46\n",
            "47\n",
            "co\n",
            "49\n",
            "op\n"
          ]
        }
      ],
      "source": [
        "# Write your code here\n",
        "\n",
        "def coop(n):\n",
        "    for i in range (1,n+1):\n",
        "        if i % 3  == 0 and i % 5 == 0:\n",
        "            print(\"coop\")\n",
        "        elif i % 3 == 0: \n",
        "            print(\"co\")\n",
        "        elif i % 5 == 0:\n",
        "            print(\"op\")\n",
        "        else:\n",
        "             print(i) \n",
        "\n",
        "coop(50)"
      ]
    },
    {
      "cell_type": "markdown",
      "metadata": {},
      "source": [
        "##### ==================================================================================================\n",
        "### Exercise 2:\n",
        "\n",
        "Create a function named `palindrome` that accepts any string input and would check if the word is a palindrome. If it is a palindrome then return the sentence \"The word is a palindrome\" and if it is not, then return the sentence \"The word is not a palindrome\". Then run the function with the following inputs:\n",
        "\n",
        "example 1:\n",
        "<br>input: racecar\n",
        "<br>output: The word is a palindrome\n",
        "\n",
        "example 2: \n",
        "<br>input: hello\n",
        "<br>output: The word is a not palindrome"
      ]
    },
    {
      "cell_type": "code",
      "execution_count": 11,
      "metadata": {
        "trusted": true
      },
      "outputs": [
        {
          "data": {
            "text/plain": [
              "'This is a palindrome'"
            ]
          },
          "execution_count": 11,
          "metadata": {},
          "output_type": "execute_result"
        }
      ],
      "source": [
        "# Write your code here\n",
        "def palidrome(x):\n",
        "    if x == x [::-1]:\n",
        "        return \"This is a palindrome\"\n",
        "    else:\n",
        "        return \"This is not a palindrome\"\n",
        "\n",
        "palidrome(\"\")"
      ]
    },
    {
      "cell_type": "markdown",
      "metadata": {},
      "source": [
        "##### ==================================================================================================\n",
        "### Exercise 3:\n",
        "\n",
        "Create a function named `reversenumber` that accepts any integer input and would return the number with the digits in reversed order. Be careful with negatives and zeros.\n",
        "\n",
        "example 1:\n",
        "<br>input: 123\n",
        "<br>output: 321\n",
        "\n",
        "example 2:\n",
        "<br>input: 150000\n",
        "<br>output: 51\n",
        "\n",
        "example 3:\n",
        "<br>input: -459\n",
        "<br>output: -954\n",
        "\n",
        "#### Hint: \n",
        "We covered how to reverse a string in Python 101. You can also convert an integer to a string and back like so:\n",
        "``` python\n",
        "# Convert string to integer\n",
        "my_int = int(my_string)\n",
        "# Convert integer to string\n",
        "my_string = str(my_int)\n",
        "```\n",
        "Use this along with what we learned so far and you can solve this problem."
      ]
    },
    {
      "cell_type": "code",
      "execution_count": 2,
      "metadata": {
        "trusted": true
      },
      "outputs": [
        {
          "data": {
            "text/plain": [
              "-321"
            ]
          },
          "execution_count": 2,
          "metadata": {},
          "output_type": "execute_result"
        }
      ],
      "source": [
        "# Write your code here\n",
        "\n",
        "def reversenumber(x):\n",
        "    x = str(x) [::-1]\n",
        "    if x[-1] == \"-\":\n",
        "        x = \"-\" + x [0:len(x)-1]\n",
        "    x = int(x)\n",
        "    return x\n",
        "\n",
        "reversenumber(-123)\n",
        "\n",
        "\n",
        "\n"
      ]
    },
    {
      "cell_type": "code",
      "execution_count": null,
      "metadata": {
        "trusted": true
      },
      "outputs": [],
      "source": []
    }
  ],
  "metadata": {
    "kernelspec": {
      "display_name": "Python 3.7.4 ('base')",
      "language": "python",
      "name": "python3"
    },
    "language_info": {
      "codemirror_mode": {
        "name": "ipython",
        "version": 3
      },
      "file_extension": ".py",
      "mimetype": "text/x-python",
      "name": "python",
      "nbconvert_exporter": "python",
      "pygments_lexer": "ipython3",
      "version": "3.7.4"
    },
    "vscode": {
      "interpreter": {
        "hash": "d9b60373530c36a28238d7886bb7dc8dc6d96b8efcd9672abcb6c82905edf1fb"
      }
    }
  },
  "nbformat": 4,
  "nbformat_minor": 4
}
